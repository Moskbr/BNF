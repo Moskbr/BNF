{
 "cells": [
  {
   "cell_type": "code",
   "execution_count": 919,
   "metadata": {},
   "outputs": [],
   "source": [
    "from Grafo import *\n",
    "import numpy as np\n",
    "from operator import index\n",
    "from traceback import print_tb\n",
    "# import o alfabeto em codigo Ascii \n",
    "import string \n",
    "# manipular os dados de excel com xlrd\n",
    "import xlrd"
   ]
  },
  {
   "cell_type": "markdown",
   "metadata": {},
   "source": [
    "### Criacao do alfabeto\n"
   ]
  },
  {
   "cell_type": "code",
   "execution_count": 920,
   "metadata": {},
   "outputs": [],
   "source": [
    "# VARAIBLES GLOBALES\n",
    "tamanhoAlfabeto = len(string.printable)\n",
    "alfabeto = []\n",
    "# Ajuste do numero de estados para criar o automato\n",
    "numEstados = 41 #son 40 estados en total pero como el rango de [0;40] tiene que se x<41\n",
    "estadosList = [i for i in range(numEstados)]\n",
    "\n",
    "def criaAlfabeto():\n",
    "    alfabeto.extend(string.printable)  #cria uma nova lista contendo o alfabeto\n",
    "\n",
    "estadosFinais=[1,3,4,6,7,8,9,10,11,12,13,14,15,16,17,18,19,20,21,22,23,24,25,26,27,28,29,30,31,32,33,34,35,37,38,39,40]"
   ]
  },
  {
   "cell_type": "markdown",
   "metadata": {},
   "source": [
    "### Leitura e criacao da Tabela de Simbolos"
   ]
  },
  {
   "cell_type": "code",
   "execution_count": 921,
   "metadata": {},
   "outputs": [],
   "source": [
    "def criaTabelaSimbolos(tabelaSimbolos):\n",
    "    try:\n",
    "        # import banco de dados palabras reservadas (excel.xls) \n",
    "        excel = xlrd.open_workbook('C:/Users/gaboh/Documents/GitHub/BNF/Tabela-Simbolos2.xls') #import xlrd\n",
    "        #excel = xlrd.open_workbook('/home/moskbr/Documentos/git/BNF/Tabela-Simbolos2.xls')\n",
    "        sh = excel.sheet_by_index(0) #Folha 1 ou sheet 1\n",
    "    except:\n",
    "        print(\"Exception ->Tabela de simbolos tem que ser um doc Excel do tipo .xls\")\n",
    "\n",
    "    \n",
    "    numColumnas = sh.nrows-1\n",
    "    for key in range(numColumnas):\n",
    "        cellCadeia = sh.cell(key+1,1).value\n",
    "        cellCategoria = sh.cell(key+1,2).value\n",
    "        cadeia = str(cellCadeia)\n",
    "        tabelaSimbolos[cadeia.upper()] = cellCategoria\n",
    "    # Tabela Simbolos -> colocar as pabras dentro de uma tabela hash ( Em python o dictionary representa a tabela hash )\n",
    "    print(tabelaSimbolos)"
   ]
  },
  {
   "cell_type": "markdown",
   "metadata": {},
   "source": [
    "### Construcao do Automato "
   ]
  },
  {
   "cell_type": "code",
   "execution_count": 922,
   "metadata": {},
   "outputs": [],
   "source": [
    "def criaAutomato(grafo): \n",
    "    \n",
    "    for x in range(numEstados): agregar(grafo, estadosList[x]) # Cria o grafo de 40 estados\n",
    "    letras=[]\n",
    "    algarismos=[]\n",
    "\n",
    "    for cont in range(0,52): #armazena so as letras do alfabeto\n",
    "        letras.append(alfabeto[cont+10])\n",
    "    for cont in range(0,10): # armazena so os numeros do alfabeto \n",
    "        algarismos.append(alfabeto[cont])\n",
    "    \n",
    "    #for cont in algarismos: #armazena em cada transicao um digito\n",
    "    relacionar(grafo, estadosList[0], estadosList[1], algarismos)\n",
    "    relacionar(grafo, estadosList[1], estadosList[1], algarismos)\n",
    "    relacionar(grafo, estadosList[2], estadosList[3], algarismos)\n",
    "    relacionar(grafo, estadosList[3], estadosList[3], algarismos)\n",
    "\n",
    "    #for cont in letras: #armazena em cada transicao o conjunto de letras\n",
    "    relacionar(grafo, estadosList[0], estadosList[4], letras)\n",
    "    relacionar(grafo, estadosList[4], estadosList[4], alfabeto)\n",
    "    \n",
    "    relacionar(grafo, estadosList[1], estadosList[2], '.')\n",
    "    relacionar(grafo, estadosList[0], estadosList[5], '\\\\')\n",
    "    relacionar(grafo, estadosList[5], estadosList[6], 'n')\n",
    "    relacionar(grafo, estadosList[5], estadosList[7], '\\\\')\n",
    "    relacionar(grafo, estadosList[0], estadosList[8], '(')\n",
    "    relacionar(grafo, estadosList[0], estadosList[9], ')')\n",
    "    relacionar(grafo, estadosList[0], estadosList[10], '{')\n",
    "    relacionar(grafo, estadosList[0], estadosList[11], '}')\n",
    "    relacionar(grafo, estadosList[0], estadosList[12], '[')\n",
    "    relacionar(grafo, estadosList[0], estadosList[13], ']')\n",
    "    relacionar(grafo, estadosList[0], estadosList[14], '=')\n",
    "    relacionar(grafo, estadosList[14], estadosList[15], '=')\n",
    "    relacionar(grafo, estadosList[0], estadosList[16], '+')\n",
    "    relacionar(grafo, estadosList[16], estadosList[17], '=')\n",
    "    relacionar(grafo, estadosList[16], estadosList[18], '+')\n",
    "    relacionar(grafo, estadosList[0], estadosList[19], '-')\n",
    "    relacionar(grafo, estadosList[19], estadosList[20], '=')\n",
    "    relacionar(grafo, estadosList[19], estadosList[21], '-')\n",
    "    relacionar(grafo, estadosList[0], estadosList[22], '*')\n",
    "    relacionar(grafo, estadosList[22], estadosList[23], '=')\n",
    "    relacionar(grafo, estadosList[0], estadosList[24], '/')\n",
    "    relacionar(grafo, estadosList[24], estadosList[25], '=')\n",
    "    relacionar(grafo, estadosList[0], estadosList[26], '%')\n",
    "    relacionar(grafo, estadosList[26], estadosList[27], '=')\n",
    "    relacionar(grafo, estadosList[0], estadosList[28], '!')\n",
    "    relacionar(grafo, estadosList[28], estadosList[29], '=')\n",
    "    relacionar(grafo, estadosList[0], estadosList[30], '>')\n",
    "    relacionar(grafo, estadosList[30], estadosList[31], '=')\n",
    "    relacionar(grafo, estadosList[0], estadosList[32], '<')\n",
    "    relacionar(grafo, estadosList[32], estadosList[33], '=')\n",
    "    relacionar(grafo, estadosList[32], estadosList[29], '>')\n",
    "    relacionar(grafo, estadosList[0], estadosList[34], '&')\n",
    "    relacionar(grafo, estadosList[34], estadosList[35], '&')\n",
    "    relacionar(grafo, estadosList[0], estadosList[36], '|')\n",
    "    relacionar(grafo, estadosList[36], estadosList[37], '|')\n",
    "    relacionar(grafo, estadosList[0], estadosList[38], ';')\n",
    "    relacionar(grafo, estadosList[0], estadosList[39], '\"')\n",
    "    relacionar(grafo, estadosList[0], estadosList[40], ',')\n"
   ]
  },
  {
   "cell_type": "markdown",
   "metadata": {},
   "source": [
    "### Funcao para Organizar os lexemas "
   ]
  },
  {
   "cell_type": "code",
   "execution_count": 923,
   "metadata": {},
   "outputs": [],
   "source": [
    "def divideLexemas(lexema):\n",
    "    for palavra in lexema:\n",
    "                for letra in palavra: \n",
    "                    try:\n",
    "                        if (palavra.index(letra) != len(palavra)):\n",
    "                            prox = palavra[palavra.index(letra)+1]\n",
    "                    except:\n",
    "                        prox = None\n",
    "\n",
    "                    if prox in tabelaSimbolos:\n",
    "                        letra = letra + prox\n",
    "                        \n",
    "                    if letra in tabelaSimbolos and len(palavra) > len(letra) :\n",
    "                        lista = palavra.split(letra)    \n",
    "                        lista.append(letra)\n",
    "                      \n",
    "                        for s in lista:\n",
    "                            if s != '':\n",
    "                                lexema.append(s)  \n",
    "                        lista.clear()\n",
    "                        lexema.remove(palavra) \n",
    "                        break\n",
    "    return lexema    "
   ]
  },
  {
   "cell_type": "markdown",
   "metadata": {},
   "source": [
    "## Main e leitura do arquivo"
   ]
  },
  {
   "cell_type": "code",
   "execution_count": 924,
   "metadata": {},
   "outputs": [],
   "source": [
    "def main():\n",
    "    criaAlfabeto()\n",
    "    tabelaSimbolos = {} #dictionary\n",
    "    criaTabelaSimbolos(tabelaSimbolos)\n",
    "    \n",
    "    grafo = Grafo()\n",
    "    criaAutomato(grafo)\n",
    "    # variaveis para armazenar os tokens dependo do tipo \n",
    "    contFloat = 0 \n",
    "    contInt = 0 \n",
    "    contString = 0 \n",
    "\n",
    "    # Leitura do arquivo \n",
    "    lista = []\n",
    "   \n",
    "    with open('teste.teste') as arquivo:\n",
    "        for linha in arquivo: \n",
    "            lexema = linha.split()\n",
    "            lista = divideLexemas(lexema)\n",
    "            \n",
    "            for w in lista:\n",
    "                if(verificaPalavra(grafo, w, estadosFinais)):\n",
    "                    try: \n",
    "                        print(tabelaSimbolos[w.upper()])\n",
    "                    except: \n",
    "                        if(w.isdigit()):\n",
    "                            tabelaSimbolos[w] = \"TK_Inteiro_\"+str(contInt)\n",
    "                            contInt+=1\n",
    "                        elif(isfloat(w)): \n",
    "                            tabelaSimbolos[w] = \"TK_Flutuante_\"+str(contFloat)\n",
    "                            contFloat+=1\n",
    "                        else: \n",
    "                            tabelaSimbolos[w.upper()] = \"TK_Identificador_\"+str(contString)\n",
    "                            contString+=1\n",
    "                else :\n",
    "                    print(\"Erro Automato:\" + w)  \n"
   ]
  },
  {
   "cell_type": "code",
   "execution_count": 925,
   "metadata": {},
   "outputs": [
    {
     "name": "stdout",
     "output_type": "stream",
     "text": [
      "{'WHILE': 'TK_While', 'IF': 'TK_If', 'MAIN': 'TK_Main', 'FUN': 'TK_Fun', 'INT': 'TK_Inteiro', 'FLOAT': 'TK_Flutuante', 'CHAR': 'TK_Char', 'WRITE': 'TK_Write', 'READ': 'TK_Read', '\\\\N': 'TK_New_Line', '(': 'TK_Abre_Parenteses', ')': 'TK_Fecha_Parenteses', '{': 'TK_Abre_Chaves', '}': 'TK_Fecha_Chaves', '[': 'TK_Abre_Colchetes', ']': 'TK_Fecha_Colchetes', '=': 'TK_Atribui_Valor', '+': 'TK_Soma', '-': 'TK_Subtracao', '*': 'TK_Multiplicacao', '/': 'TK_Divisao', '%': 'TK_Mod', '+=': 'TK_Incrementa_Valor', '-=': 'TK_Decrementa_Valor', '*=': 'TK_Multiplica_Valor', '/=': 'TK_Divide_Valor', '%=': 'TK_Mod_Valor', '++': 'TK_Incrementa_Um', '--': 'TK_Decrementa_Um', '==': 'TK_Verifica_Igual', '!=': 'TK_Verifica_Diferente', '<>': 'TK_Verifica_Diferente', '>': 'TK_Maior', '<': 'TK_Menor', '>=': 'TK_Maior_Igual', '<=': 'TK_Menor_Igual', '!': 'TK_Nega', ';': 'TK_Final_Lexema', '\"': 'TK_Aspa', '//': 'TK_Comentario', '&': 'TK_E_Comercial', ',': 'TK_Virgula', '&&': 'TK_And', '||': 'TK_Or', 'X': 'TK_Identificador', '8.0': 'TK_Constante'}\n",
      "TK_Final_Lexema\n",
      "TK_Final_Lexema\n",
      "TK_Final_Lexema\n"
     ]
    }
   ],
   "source": [
    "if __name__ == \"__main__\":\n",
    "    main()"
   ]
  },
  {
   "cell_type": "markdown",
   "metadata": {},
   "source": [
    "### Recuperacao de Erro"
   ]
  },
  {
   "cell_type": "code",
   "execution_count": 926,
   "metadata": {},
   "outputs": [],
   "source": [
    "#[Erro: Análise Léxica]: símbolo incorreto na linha X, coluna Y. O símbolo “@” não pertence ao alfabeto da linguagem.\n",
    "\n"
   ]
  }
 ],
 "metadata": {
  "kernelspec": {
   "display_name": "Python 3.9.12 ('base')",
   "language": "python",
   "name": "python3"
  },
  "language_info": {
   "codemirror_mode": {
    "name": "ipython",
    "version": 3
   },
   "file_extension": ".py",
   "mimetype": "text/x-python",
   "name": "python",
   "nbconvert_exporter": "python",
   "pygments_lexer": "ipython3",
   "version": "3.9.12"
  },
  "orig_nbformat": 4,
  "vscode": {
   "interpreter": {
    "hash": "a1d387925892fc7fcb4725e0631a5c5e244fddf1bc8bf25e3f6261922298782b"
   }
  }
 },
 "nbformat": 4,
 "nbformat_minor": 2
}
