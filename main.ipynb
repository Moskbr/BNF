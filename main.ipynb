{
 "cells": [
  {
   "cell_type": "markdown",
   "metadata": {},
   "source": [
    "### Importar bibliotecas"
   ]
  },
  {
   "cell_type": "code",
   "execution_count": 93,
   "metadata": {},
   "outputs": [],
   "source": [
    "from Grafo import *\n",
    "import numpy as np\n",
    "# import o alfabeto em codigo Ascii \n",
    "import string \n",
    "# manipular os dados de excel com xlrd\n",
    "import xlrd"
   ]
  },
  {
   "cell_type": "markdown",
   "metadata": {},
   "source": [
    "## Alfabeto Σ e Estados\n"
   ]
  },
  {
   "cell_type": "code",
   "execution_count": 94,
   "metadata": {},
   "outputs": [],
   "source": [
    "tamanhoAlfabeto = len(string.printable)\n",
    "alfabeto = []\n",
    "\n",
    "def criaAlfabeto():#funcao para criar o alfabeto\n",
    "    alfabeto.extend(string.printable)  #cria uma nova lista contendo o alfabeto\n",
    "\n",
    "criaAlfabeto()\n",
    "#print(len(alfabeto))\n",
    "#print (alfabeto)\n",
    "\n",
    "# Ajuste do numero de estados para criar o automato\n",
    "numEstados = 41 #son 40 estados en total pero como el rango de [0;40] tiene que se x<41\n",
    "estadosList = [i for i in range(numEstados)]\n",
    "\n",
    "estadosFinais=[1,3,4,6,7,8,9,10,11,12,13,14,15,16,17,18,19,20,21,22,23,24,25,26,27,28,29,30,31,32,33,34,35,37,38,39,40]"
   ]
  },
  {
   "cell_type": "code",
   "execution_count": 95,
   "metadata": {},
   "outputs": [
    {
     "name": "stdout",
     "output_type": "stream",
     "text": [
      "{'While': 'TK_While', 'If': 'TK_If', 'Main': 'TK_Main', 'Fun': 'TK_Fun', 'Int': 'TK_Inteiro', 'Float': 'TK_Flutuante', 'Char': 'TK_Char', 'Write': 'TK_Write', 'Read': 'TK_Read', '\\\\n': 'TK_New_Line', '(': 'TK_Abre_Parenteses', ')': 'TK_Fecha_Parenteses', '{': 'TK_Abre_Chaves', '}': 'TK_Fecha_Chaves', '[': 'TK_Abre_Colchetes', ']': 'TK_Fecha_Colchetes', '=': 'TK_Atribui_Valor', '+': 'TK_Soma', '-': 'TK_Subtracao', '*': 'TK_Multiplicacao', '/': 'TK_Divisao', '%': 'TK_Mod', '+=': 'TK_Incrementa_Valor', '-=': 'TK_Decrementa_Valor', '*=': 'TK_Multiplica_Valor', '/=': 'TK_Divide_Valor', '%=': 'TK_Mod_Valor', '++': 'TK_Incrementa_Um', '--': 'TK_Decrementa_Um', '==': 'TK_Verifica_Igual', '!=': 'TK_Verifica_Diferente', '<>': 'TK_Verifica_Diferente', '>': 'TK_Maior', '<': 'TK_Menor', '>=': 'TK_Maior_Igual', '<=': 'TK_Menor_Igual', '!': 'TK_Nega', ';': 'TK_Final_Lexema', '\"': 'TK_Aspa', '//': 'TK_Comentario', '&': 'TK_E_Comercial', ',': 'TK_Virgula', '&&': 'TK_And', '||': 'TK_Or', 'x': 'TK_Identificador'}\n"
     ]
    },
    {
     "data": {
      "text/plain": [
       "'TK_While'"
      ]
     },
     "execution_count": 95,
     "metadata": {},
     "output_type": "execute_result"
    }
   ],
   "source": [
    "try:\n",
    "    # import banco de dados palabras reservadas (excel.xls) \n",
    "    excel = xlrd.open_workbook('C:/Users/gaboh/Documents/GitHub/BNF/Tabela-Simbolos2.xls') #import xlrd\n",
    "    sh = excel.sheet_by_index(0) #Folha 1 ou sheet 1\n",
    "except:\n",
    "    print(\"Exception ->Tabela de simbolos tem que ser um doc Excel do tipo .xls\")\n",
    "\n",
    "tabelaSimbolos ={} #dictionary\n",
    "numColumnas = sh.nrows-2\n",
    "for key in range(numColumnas):\n",
    "    cellCadeia = sh.cell(key+1,1).value\n",
    "    cellCategoria = sh.cell(key+1,2).value\n",
    "    tabelaSimbolos[cellCadeia] = cellCategoria\n",
    "# Tabela Simbolos -> colocar as pabras dentro de uma tabela hash ( Em python o dictionary representa a tabela hash )\n",
    "print(tabelaSimbolos)\n",
    "# busca na tabela de simbolos se existe a palavra \n",
    "tabelaSimbolos[\"While\"]"
   ]
  },
  {
   "cell_type": "markdown",
   "metadata": {},
   "source": [
    "### Construcao do Automato "
   ]
  },
  {
   "cell_type": "code",
   "execution_count": 96,
   "metadata": {},
   "outputs": [],
   "source": [
    "from traceback import print_tb\n",
    "\n",
    "\n",
    "def main():\n",
    "    grafo = Grafo()\n",
    "    for x in range(numEstados): agregar(grafo, estadosList[x]) # Cria o grafo de 40 estados\n",
    "    letras=[]\n",
    "    algarismos=[]\n",
    "\n",
    "    for cont in range(0,52): #armazena so as letras do alfabeto\n",
    "        letras.append(alfabeto[cont+10])\n",
    "    for cont in range(0,10): # armazena so os numeros do alfabeto \n",
    "        algarismos.append(alfabeto[cont])\n",
    "\n",
    "    #for cont in algarismos: #armazena em cada transicao um digito\n",
    "    relacionar(grafo, estadosList[0], estadosList[1], algarismos)\n",
    "    relacionar(grafo, estadosList[1], estadosList[1], algarismos)\n",
    "    relacionar(grafo, estadosList[2], estadosList[3], algarismos)\n",
    "    relacionar(grafo, estadosList[3], estadosList[3], algarismos)\n",
    "    relacionar(grafo, estadosList[4], estadosList[4], algarismos)\n",
    "\n",
    "    #for cont in letras: #armazena em cada transicao o conjunto de letras\n",
    "    relacionar(grafo, estadosList[0], estadosList[4], letras)\n",
    "    relacionar(grafo, estadosList[4], estadosList[4], alfabeto)\n",
    "    \n",
    "    relacionar(grafo, estadosList[1], estadosList[2], '.')\n",
    "    relacionar(grafo, estadosList[4], estadosList[4], '_')\n",
    "    relacionar(grafo, estadosList[0], estadosList[5], '\\\\')\n",
    "    relacionar(grafo, estadosList[5], estadosList[6], 'n')\n",
    "    relacionar(grafo, estadosList[5], estadosList[7], '\\\\')\n",
    "    relacionar(grafo, estadosList[0], estadosList[8], '(')\n",
    "    relacionar(grafo, estadosList[0], estadosList[9], ')')\n",
    "    relacionar(grafo, estadosList[0], estadosList[10], '{')\n",
    "    relacionar(grafo, estadosList[0], estadosList[11], '}')\n",
    "    relacionar(grafo, estadosList[0], estadosList[12], '[')\n",
    "    relacionar(grafo, estadosList[0], estadosList[13], ']')\n",
    "    relacionar(grafo, estadosList[0], estadosList[14], '=')\n",
    "    relacionar(grafo, estadosList[14], estadosList[15], '=')\n",
    "    relacionar(grafo, estadosList[0], estadosList[16], '+')\n",
    "    relacionar(grafo, estadosList[16], estadosList[17], '=')\n",
    "    relacionar(grafo, estadosList[16], estadosList[18], '+')\n",
    "    relacionar(grafo, estadosList[0], estadosList[19], '-')\n",
    "    relacionar(grafo, estadosList[19], estadosList[20], '=')\n",
    "    relacionar(grafo, estadosList[19], estadosList[21], '-')\n",
    "    relacionar(grafo, estadosList[0], estadosList[22], '*')\n",
    "    relacionar(grafo, estadosList[22], estadosList[23], '=')\n",
    "    relacionar(grafo, estadosList[0], estadosList[24], '/')\n",
    "    relacionar(grafo, estadosList[24], estadosList[25], '=')\n",
    "    relacionar(grafo, estadosList[0], estadosList[26], '%')\n",
    "    relacionar(grafo, estadosList[26], estadosList[27], '=')\n",
    "    relacionar(grafo, estadosList[0], estadosList[28], '!')\n",
    "    relacionar(grafo, estadosList[28], estadosList[29], '=')\n",
    "    relacionar(grafo, estadosList[0], estadosList[30], '>')\n",
    "    relacionar(grafo, estadosList[30], estadosList[31], '=')\n",
    "    relacionar(grafo, estadosList[0], estadosList[32], '<')\n",
    "    relacionar(grafo, estadosList[32], estadosList[33], '=')\n",
    "    relacionar(grafo, estadosList[32], estadosList[29], '>')\n",
    "    relacionar(grafo, estadosList[0], estadosList[34], '&')\n",
    "    relacionar(grafo, estadosList[34], estadosList[35], '&')\n",
    "    relacionar(grafo, estadosList[0], estadosList[36], '|')\n",
    "    relacionar(grafo, estadosList[36], estadosList[37], '|')\n",
    "    relacionar(grafo, estadosList[0], estadosList[38], ';')\n",
    "    relacionar(grafo, estadosList[0], estadosList[39], '\"')\n",
    "    relacionar(grafo, estadosList[0], estadosList[40], ',')\n",
    "\n",
    "    imprimeGrafo(grafo)\n",
    "    \n",
    "    palavra = \"inteiro\"\n",
    "    for i  in range(len(palavra)):\n",
    "        print(palavra[i])\n",
    "        \n",
    "\n",
    "\n",
    "        \n",
    "    #def verificaPalvra(grafo, letra, totalPalavras, caso, num,  ultimaLetra,  estadoFinal):\n",
    "   \n",
    "\n",
    "# O automato vai retornar True se a palvra foi aceita e se verifica na tabela de simbolos \n",
    "# Se e False a Classe Erro dispara o tipo de erro "
   ]
  },
  {
   "cell_type": "markdown",
   "metadata": {},
   "source": [
    "### Classe Error"
   ]
  },
  {
   "cell_type": "code",
   "execution_count": null,
   "metadata": {},
   "outputs": [],
   "source": []
  },
  {
   "cell_type": "markdown",
   "metadata": {},
   "source": [
    "### Verifica a palavra na tabela de simbolos"
   ]
  },
  {
   "cell_type": "code",
   "execution_count": null,
   "metadata": {},
   "outputs": [],
   "source": []
  },
  {
   "cell_type": "code",
   "execution_count": 97,
   "metadata": {},
   "outputs": [
    {
     "name": "stdout",
     "output_type": "stream",
     "text": [
      "{0: [->1 peso=['0', '1', '2', '3', '4', '5', '6', '7', '8', '9'], ->4 peso=['a', 'b', 'c', 'd', 'e', 'f', 'g', 'h', 'i', 'j', 'k', 'l', 'm', 'n', 'o', 'p', 'q', 'r', 's', 't', 'u', 'v', 'w', 'x', 'y', 'z', 'A', 'B', 'C', 'D', 'E', 'F', 'G', 'H', 'I', 'J', 'K', 'L', 'M', 'N', 'O', 'P', 'Q', 'R', 'S', 'T', 'U', 'V', 'W', 'X', 'Y', 'Z'], ->5 peso=\\, ->8 peso=(, ->9 peso=), ->10 peso={, ->11 peso=}, ->12 peso=[, ->13 peso=], ->14 peso==, ->16 peso=+, ->19 peso=-, ->22 peso=*, ->24 peso=/, ->26 peso=%, ->28 peso=!, ->30 peso=>, ->32 peso=<, ->34 peso=&, ->36 peso=|, ->38 peso=;, ->39 peso=\", ->40 peso=,], 1: [->1 peso=['0', '1', '2', '3', '4', '5', '6', '7', '8', '9'], ->2 peso=.], 2: [->3 peso=['0', '1', '2', '3', '4', '5', '6', '7', '8', '9']], 3: [->3 peso=['0', '1', '2', '3', '4', '5', '6', '7', '8', '9']], 4: [->4 peso=['0', '1', '2', '3', '4', '5', '6', '7', '8', '9'], ->4 peso=['0', '1', '2', '3', '4', '5', '6', '7', '8', '9', 'a', 'b', 'c', 'd', 'e', 'f', 'g', 'h', 'i', 'j', 'k', 'l', 'm', 'n', 'o', 'p', 'q', 'r', 's', 't', 'u', 'v', 'w', 'x', 'y', 'z', 'A', 'B', 'C', 'D', 'E', 'F', 'G', 'H', 'I', 'J', 'K', 'L', 'M', 'N', 'O', 'P', 'Q', 'R', 'S', 'T', 'U', 'V', 'W', 'X', 'Y', 'Z', '!', '\"', '#', '$', '%', '&', \"'\", '(', ')', '*', '+', ',', '-', '.', '/', ':', ';', '<', '=', '>', '?', '@', '[', '\\\\', ']', '^', '_', '`', '{', '|', '}', '~', ' ', '\\t', '\\n', '\\r', '\\x0b', '\\x0c'], ->4 peso=_], 5: [->6 peso=n, ->7 peso=\\], 6: [], 7: [], 8: [], 9: [], 10: [], 11: [], 12: [], 13: [], 14: [->15 peso==], 15: [], 16: [->17 peso==, ->18 peso=+], 17: [], 18: [], 19: [->20 peso==, ->21 peso=-], 20: [], 21: [], 22: [->23 peso==], 23: [], 24: [->25 peso==], 25: [], 26: [->27 peso==], 27: [], 28: [->29 peso==], 29: [], 30: [->31 peso==], 31: [], 32: [->33 peso==, ->29 peso=>], 33: [], 34: [->35 peso=&], 35: [], 36: [->37 peso=|], 37: [], 38: [], 39: [], 40: []}\n",
      "i\n",
      "n\n",
      "t\n",
      "e\n",
      "i\n",
      "r\n",
      "o\n"
     ]
    }
   ],
   "source": [
    "if __name__ == \"__main__\":\n",
    "    main()"
   ]
  }
 ],
 "metadata": {
  "kernelspec": {
   "display_name": "Python 3.9.12 ('base')",
   "language": "python",
   "name": "python3"
  },
  "language_info": {
   "codemirror_mode": {
    "name": "ipython",
    "version": 3
   },
   "file_extension": ".py",
   "mimetype": "text/x-python",
   "name": "python",
   "nbconvert_exporter": "python",
   "pygments_lexer": "ipython3",
   "version": "3.9.12"
  },
  "orig_nbformat": 4,
  "vscode": {
   "interpreter": {
    "hash": "a1d387925892fc7fcb4725e0631a5c5e244fddf1bc8bf25e3f6261922298782b"
   }
  }
 },
 "nbformat": 4,
 "nbformat_minor": 2
}
