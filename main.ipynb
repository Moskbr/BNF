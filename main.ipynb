{
 "cells": [
  {
   "cell_type": "markdown",
   "metadata": {},
   "source": [
    "### Importar bibliotecas"
   ]
  },
  {
   "cell_type": "code",
   "execution_count": 93,
   "metadata": {},
   "outputs": [],
   "source": [
    "from Grafo import *\n",
    "import numpy as np\n",
    "# import o alfabeto em codigo Ascii \n",
    "import string \n",
    "# manipular os dados de excel com xlrd\n",
    "import xlrd"
   ]
  },
  {
   "cell_type": "markdown",
   "metadata": {},
   "source": [
    "## Alfabeto Σ e Estados\n"
   ]
  },
  {
   "cell_type": "code",
   "execution_count": 94,
   "metadata": {},
   "outputs": [
    {
     "name": "stdout",
     "output_type": "stream",
     "text": [
      "100\n",
      "['0', '1', '2', '3', '4', '5', '6', '7', '8', '9', 'a', 'b', 'c', 'd', 'e', 'f', 'g', 'h', 'i', 'j', 'k', 'l', 'm', 'n', 'o', 'p', 'q', 'r', 's', 't', 'u', 'v', 'w', 'x', 'y', 'z', 'A', 'B', 'C', 'D', 'E', 'F', 'G', 'H', 'I', 'J', 'K', 'L', 'M', 'N', 'O', 'P', 'Q', 'R', 'S', 'T', 'U', 'V', 'W', 'X', 'Y', 'Z', '!', '\"', '#', '$', '%', '&', \"'\", '(', ')', '*', '+', ',', '-', '.', '/', ':', ';', '<', '=', '>', '?', '@', '[', '\\\\', ']', '^', '_', '`', '{', '|', '}', '~', ' ', '\\t', '\\n', '\\r', '\\x0b', '\\x0c']\n"
     ]
    },
    {
     "data": {
      "text/plain": [
       "[0, 1, 2, 3, 4, 5, 6, 7, 8, 9]"
      ]
     },
     "execution_count": 94,
     "metadata": {},
     "output_type": "execute_result"
    }
   ],
   "source": [
    "tamanhoAlfabeto =len(string.printable)\n",
    "print(len(string.printable))\n",
    "alfabeto = []\n",
    "\n",
    "def criaAlfabeto():#funcao para criar o alfabeto\n",
    "    alfabeto.extend(string.printable)  #cria uma nova lista contendo o alfabeto\n",
    "\n",
    "criaAlfabeto()\n",
    "print (alfabeto)\n",
    "\n",
    "# Ajuste do numero de estados para criar o automato\n",
    "numEstados = 10\n",
    "estadosList = [i for i in range(numEstados)]\n",
    "estadosList"
   ]
  },
  {
   "cell_type": "code",
   "execution_count": 115,
   "metadata": {},
   "outputs": [
    {
     "name": "stdout",
     "output_type": "stream",
     "text": [
      "{'While': 'TK_While', 'If': 'TK_If', 'For': 'TK_For', 'Main': 'TK_Main', 'DoWhile': 'TK_Do_While', 'Fun': 'TK_Fun', '+': 'TK_Soma', '-': 'TK_Subracao', '*': 'TK_Multiplicacao', '/': 'TK_Divisao', ';': 'TK_Final_Lexema', 'x': 'TK_Identificador'}\n"
     ]
    },
    {
     "data": {
      "text/plain": [
       "'TK_For'"
      ]
     },
     "execution_count": 115,
     "metadata": {},
     "output_type": "execute_result"
    }
   ],
   "source": [
    "try:\n",
    "    # import banco de dados palabras reservadas (excel.xls) \n",
    "    excel = xlrd.open_workbook('C:/Users/gaboh/Documents/GitHub/BNF/Tabela-Simbolos2.xls') #import xlrd\n",
    "    sh = excel.sheet_by_index(0) #Folha 1 ou sheet 1\n",
    "except:\n",
    "    print(\"Exception ->Tabela de simbolos tem que ser um doc Excel do tipo .xls\")\n",
    "\n",
    "tabelaSimbolos ={} #dictionary\n",
    "numColumnas = sh.nrows-2\n",
    "for key in range(numColumnas):\n",
    "    cellCadeia = sh.cell(key+1,1).value\n",
    "    cellCategoria = sh.cell(key+1,2).value\n",
    "    tabelaSimbolos[cellCadeia] = cellCategoria\n",
    "# Tabela Simbolos -> colocar as pabras dentro de uma tabela hash ( Em python o dictionary representa a tabela hash )\n",
    "print(tabelaSimbolos)\n",
    "# busca na tabela de simbolos se existe a palavra \n",
    "tabelaSimbolos[\"For\"]"
   ]
  },
  {
   "cell_type": "markdown",
   "metadata": {},
   "source": [
    "### Construcao do Automato "
   ]
  },
  {
   "cell_type": "code",
   "execution_count": 96,
   "metadata": {},
   "outputs": [],
   "source": [
    "def main():\n",
    "    p = 'x'\n",
    "    grafo = Grafo()\n",
    "    for x in range(numEstados): agregar(grafo, estadosList[x])\n",
    "\n",
    "    relacionar(grafo, estadosList[0], estadosList[1], p)\n",
    "    relacionar(grafo, estadosList[2], estadosList[4], p)\n",
    "    relacionar(grafo, estadosList[3], estadosList[5], p)\n",
    "    relacionar(grafo, estadosList[4], estadosList[8], p)\n",
    "    relacionar(grafo, estadosList[5], estadosList[7], p)\n",
    "    relacionar(grafo, estadosList[6], estadosList[5], p)\n",
    "    relacionar(grafo, estadosList[8], estadosList[2], p)\n",
    "    relacionar(grafo, estadosList[7], estadosList[1], p)\n",
    "    relacionar(grafo, estadosList[4], estadosList[2], p)\n",
    "    relacionar(grafo, estadosList[2], estadosList[3], p)\n",
    "    relacionar(grafo, estadosList[1], estadosList[6], p)\n",
    "\n",
    "    imprimeGrafo(grafo)\n"
   ]
  },
  {
   "cell_type": "code",
   "execution_count": 97,
   "metadata": {},
   "outputs": [
    {
     "name": "stdout",
     "output_type": "stream",
     "text": [
      "{0: [->1 peso=x], 1: [->6 peso=x], 2: [->4 peso=x, ->3 peso=x], 3: [->5 peso=x], 4: [->8 peso=x, ->2 peso=x], 5: [->7 peso=x], 6: [->5 peso=x], 7: [->1 peso=x], 8: [->2 peso=x], 9: []}\n"
     ]
    }
   ],
   "source": [
    "if __name__ == \"__main__\":\n",
    "    main()"
   ]
  }
 ],
 "metadata": {
  "kernelspec": {
   "display_name": "Python 3.9.12 ('base')",
   "language": "python",
   "name": "python3"
  },
  "language_info": {
   "codemirror_mode": {
    "name": "ipython",
    "version": 3
   },
   "file_extension": ".py",
   "mimetype": "text/x-python",
   "name": "python",
   "nbconvert_exporter": "python",
   "pygments_lexer": "ipython3",
   "version": "3.9.12"
  },
  "orig_nbformat": 4,
  "vscode": {
   "interpreter": {
    "hash": "a1d387925892fc7fcb4725e0631a5c5e244fddf1bc8bf25e3f6261922298782b"
   }
  }
 },
 "nbformat": 4,
 "nbformat_minor": 2
}
